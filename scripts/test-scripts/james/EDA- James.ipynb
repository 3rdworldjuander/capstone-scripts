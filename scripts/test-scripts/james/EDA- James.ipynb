{
 "cells": [
  {
   "cell_type": "code",
   "execution_count": 3,
   "metadata": {
    "collapsed": true
   },
   "outputs": [],
   "source": [
    "import seaborn as sns\n",
    "import numpy as np\n",
    "import pandas as pd\n",
    "import matplotlib.pyplot as plt\n",
    "%matplotlib inline\n"
   ]
  },
  {
   "cell_type": "code",
   "execution_count": 78,
   "metadata": {
    "collapsed": false
   },
   "outputs": [],
   "source": [
    "data = pd.read_csv('train_triplets.txt', sep=\"\\t\", header = None,)\n",
    "\n"
   ]
  },
  {
   "cell_type": "code",
   "execution_count": 28,
   "metadata": {
    "collapsed": false
   },
   "outputs": [],
   "source": [
    "def f(row):\n",
    "    if row['Count'] >= 10:\n",
    "        val = '>=10'\n",
    "    else:\n",
    "        val = row['Count']\n",
    "    return val\n",
    "data['UniqueCount'] = data.apply(f, axis=1)"
   ]
  },
  {
   "cell_type": "code",
   "execution_count": 16,
   "metadata": {
    "collapsed": false
   },
   "outputs": [],
   "source": [
    "data.to_csv('NewDF.csv', index=False)"
   ]
  },
  {
   "cell_type": "code",
   "execution_count": 13,
   "metadata": {
    "collapsed": false
   },
   "outputs": [],
   "source": [
    "data2= data\n",
    "data2 = pd.read_csv('NewDF.csv')\n"
   ]
  },
  {
   "cell_type": "code",
   "execution_count": 31,
   "metadata": {
    "collapsed": false
   },
   "outputs": [],
   "source": [
    "data2['UniqueCount'] = data2['UniqueCount'].astype('category')\n",
    "TestSet = data2[0:10000]\n"
   ]
  },
  {
   "cell_type": "code",
   "execution_count": 81,
   "metadata": {
    "collapsed": false
   },
   "outputs": [
    {
     "name": "stdout",
     "output_type": "stream",
     "text": [
      "The number of combinations is: 48,373,586\n",
      "The number of unique Users is: 1,019,318\n",
      "The number of unique Songs is: 384,546\n",
      "Unique Counts: 720\n"
     ]
    }
   ],
   "source": [
    "print \"The number of combinations is:\", format(len(data2),\",d\")\n",
    "print \"The number of unique Users is:\",format(len(set(data2.User_ID)),\",d\")\n",
    "print \"The number of unique Songs is:\",format(len(set(data2.Song_ID)), \",d\")\n",
    "print \"Unique Counts:\",format(len(set(data2.Count)),\",d\")\n"
   ]
  },
  {
   "cell_type": "code",
   "execution_count": 82,
   "metadata": {
    "collapsed": false
   },
   "outputs": [
    {
     "name": "stdout",
     "output_type": "stream",
     "text": [
      "The number of unique Songs in TestSet is: 7,849\n",
      "The number of unique Users in Test Set is: 173\n",
      "The number of combinations in Test Set is: 10,000\n"
     ]
    }
   ],
   "source": [
    "print \"The number of unique Songs in TestSet is:\",format(len(set(TestSet.Song_ID)), \",d\")\n",
    "print \"The number of unique Users in Test Set is:\",format(len(set(TestSet.User_ID)),\",d\")\n",
    "print \"The number of combinations in Test Set is:\", format(len(TestSet),\",d\")"
   ]
  },
  {
   "cell_type": "code",
   "execution_count": 27,
   "metadata": {
    "collapsed": true
   },
   "outputs": [],
   "source": [
    "def GreaterThanOne(row):\n",
    "    if row['Count'] > 1:\n",
    "        val = 1\n",
    "    else:\n",
    "        val = 0\n",
    "    return val\n",
    "data2['G1'] = data2.apply(GreaterThanOne, axis=1)"
   ]
  },
  {
   "cell_type": "code",
   "execution_count": 15,
   "metadata": {
    "collapsed": true
   },
   "outputs": [],
   "source": [
    "#data2.to_csv('NewDF2.csv', index=False)\n",
    "data2 = pd.read_csv('NewDF2.csv')"
   ]
  },
  {
   "cell_type": "code",
   "execution_count": 10,
   "metadata": {
    "collapsed": false
   },
   "outputs": [],
   "source": [
    "#Full Model\n",
    "UCS = data2[['User_ID', 'Song_ID']].groupby(['User_ID']).agg(['count'])\n",
    "SCU = data2[['Song_ID', 'User_ID']].groupby(['Song_ID']).agg(['count'])\n",
    "#Test Model\n",
    "UCS2 = TestSet[['User_ID', 'Song_ID']].groupby(['User_ID']).agg(['count'])\n",
    "SCU2 = TestSet[['Song_ID', 'User_ID']].groupby(['Song_ID']).agg(['count'])"
   ]
  },
  {
   "cell_type": "code",
   "execution_count": 7,
   "metadata": {
    "collapsed": false
   },
   "outputs": [],
   "source": [
    "#UCS.to_csv('UCS.csv', index=False)\n",
    "#SCU.to_csv('SCU.csv', index=False)\n",
    "UCS = pd.read_csv('UCS.csv')\n",
    "SCU = pd.read_csv('SCU.csv')\n"
   ]
  },
  {
   "cell_type": "code",
   "execution_count": 83,
   "metadata": {
    "collapsed": false
   },
   "outputs": [
    {
     "name": "stdout",
     "output_type": "stream",
     "text": [
      "1       28755966\n",
      "2        7336825\n",
      "3        3214271\n",
      ">=10     2477559\n",
      "5        2250999\n",
      "4        1805081\n",
      "6        1004971\n",
      "7         675413\n",
      "8         488641\n",
      "9         363860\n",
      "Name: UniqueCount, dtype: int64\n"
     ]
    }
   ],
   "source": [
    "print \"Count of the frequency each song is listened to\"\n",
    "print \"ex: 28755966 songs are listened to once, 2477559 songs are listened to ten times or more\"\n",
    "print data2.UniqueCount.value_counts()\n"
   ]
  },
  {
   "cell_type": "code",
   "execution_count": 88,
   "metadata": {
    "collapsed": false
   },
   "outputs": [
    {
     "name": "stdout",
     "output_type": "stream",
     "text": [
      "Count of the frequency each song is listened to\n",
      "0 means that person listened to song 1 time,\n",
      "1 means that person listened to song more than 1 times\n",
      "0    28755966\n",
      "1    19617620\n",
      "Name: G1, dtype: int64\n"
     ]
    }
   ],
   "source": [
    "print \"Count of the frequency each song is listened to\"\n",
    "print \"0 means that person listened to song 1 time,\"\n",
    "print \"1 means that person listened to song more than 1 times\"\n",
    "print data2.G1.value_counts()"
   ]
  },
  {
   "cell_type": "code",
   "execution_count": 89,
   "metadata": {
    "collapsed": false
   },
   "outputs": [
    {
     "name": "stdout",
     "output_type": "stream",
     "text": [
      "Summary Statistics on Number of Unique Users that Listens to a Song\n",
      "ex: On Average each song is listened to by 125.79 users or 50% of songs are listened to by 13 users\n",
      "             User_ID\n",
      "               count\n",
      "count  384546.000000\n",
      "mean      125.794017\n",
      "std       799.025834\n",
      "min         1.000000\n",
      "25%         4.000000\n",
      "50%        13.000000\n",
      "75%        52.000000\n",
      "max    110479.000000\n",
      "\n",
      "\n",
      "Summary Statistics on Number of Unique Songs Each User Listens To\n",
      "ex: On Average each user listens to 47 unique songs or 50% of users listen to 27 unique songs\n",
      "            Song_ID\n",
      "              count\n",
      "count  1.019318e+06\n",
      "mean   4.745682e+01\n",
      "std    5.781573e+01\n",
      "min    1.000000e+01\n",
      "25%    1.600000e+01\n",
      "50%    2.700000e+01\n",
      "75%    5.500000e+01\n",
      "max    4.400000e+03\n"
     ]
    }
   ],
   "source": [
    "print 'Summary Statistics on Number of Unique Users that Listens to a Song'\n",
    "print 'ex: On Average each song is listened to by 125.79 users or 50% of songs are listened to by 13 users'\n",
    "print SCU.describe()\n",
    "print\n",
    "print\n",
    "print 'Summary Statistics on Number of Unique Songs Each User Listens To'\n",
    "print 'ex: On Average each user listens to 47 unique songs or 50% of users listen to 27 unique songs'\n",
    "print UCS.describe()\n"
   ]
  },
  {
   "cell_type": "code",
   "execution_count": 87,
   "metadata": {
    "collapsed": false
   },
   "outputs": [
    {
     "name": "stdout",
     "output_type": "stream",
     "text": [
      "Count of the Y number of users that listen to X number of unique songs\n",
      "ex: 50608 users listen to 10 unique songs\n"
     ]
    },
    {
     "data": {
      "text/plain": [
       "10      50608\n",
       "11      46219\n",
       "12      42170\n",
       "13      38721\n",
       "14      35585\n",
       "15      33065\n",
       "16      30834\n",
       "17      28662\n",
       "18      26931\n",
       "19      25420\n",
       "20      23627\n",
       "21      22268\n",
       "22      20679\n",
       "23      19546\n",
       "24      18646\n",
       "25      17473\n",
       "26      16836\n",
       "27      15770\n",
       "28      14943\n",
       "29      14372\n",
       "30      13814\n",
       "31      12887\n",
       "32      12566\n",
       "33      11652\n",
       "34      11352\n",
       "35      10774\n",
       "36      10402\n",
       "37      10004\n",
       "38       9713\n",
       "39       9237\n",
       "        ...  \n",
       "961         1\n",
       "763         1\n",
       "918         1\n",
       "1105        1\n",
       "1124        1\n",
       "915         1\n",
       "875         1\n",
       "877         1\n",
       "881         1\n",
       "884         1\n",
       "1398        1\n",
       "887         1\n",
       "888         1\n",
       "890         1\n",
       "1116        1\n",
       "894         1\n",
       "1114        1\n",
       "895         1\n",
       "898         1\n",
       "676         1\n",
       "904         1\n",
       "905         1\n",
       "907         1\n",
       "1108        1\n",
       "911         1\n",
       "677         1\n",
       "913         1\n",
       "1106        1\n",
       "784         1\n",
       "726         1\n",
       "Name: count, dtype: int64"
      ]
     },
     "execution_count": 87,
     "metadata": {},
     "output_type": "execute_result"
    }
   ],
   "source": [
    "print \"Count of the Y number of users that listen to X number of unique songs\"\n",
    "print \"ex: 50608 users listen to 10 unique songs\"\n",
    "UCS.Song_ID['count'].value_counts()"
   ]
  },
  {
   "cell_type": "code",
   "execution_count": 86,
   "metadata": {
    "collapsed": false
   },
   "outputs": [
    {
     "name": "stdout",
     "output_type": "stream",
     "text": [
      "Count of the Y Number of songs listend by X number of person(s)\n",
      "ex: 31781 songs are listened to by one person\n"
     ]
    },
    {
     "data": {
      "text/plain": [
       "1        31781\n",
       "2        26516\n",
       "3        22192\n",
       "4        18996\n",
       "5        16354\n",
       "6        14477\n",
       "7        12287\n",
       "8        11048\n",
       "9         9679\n",
       "10        8689\n",
       "11        7860\n",
       "12        7308\n",
       "13        6565\n",
       "14        5916\n",
       "15        5474\n",
       "16        5019\n",
       "17        4815\n",
       "18        4312\n",
       "19        4085\n",
       "20        3824\n",
       "21        3683\n",
       "22        3402\n",
       "23        3171\n",
       "24        3128\n",
       "25        3014\n",
       "26        2756\n",
       "27        2674\n",
       "28        2527\n",
       "29        2342\n",
       "30        2278\n",
       "         ...  \n",
       "2771         1\n",
       "6743         1\n",
       "4944         1\n",
       "3026         1\n",
       "3761         1\n",
       "5200         1\n",
       "7120         1\n",
       "2514         1\n",
       "4561         1\n",
       "2130         1\n",
       "4305         1\n",
       "4433         1\n",
       "10582        1\n",
       "2002         1\n",
       "2898         1\n",
       "8145         1\n",
       "3154         1\n",
       "3795         1\n",
       "11350        1\n",
       "2197         1\n",
       "5713         1\n",
       "3666         1\n",
       "1875         1\n",
       "5810         1\n",
       "1968         1\n",
       "3027         1\n",
       "5521         1\n",
       "6487         1\n",
       "25310        1\n",
       "3539         1\n",
       "Name: count, dtype: int64"
      ]
     },
     "execution_count": 86,
     "metadata": {},
     "output_type": "execute_result"
    }
   ],
   "source": [
    "print \"Count of the Y Number of songs listend by X number of person(s)\"\n",
    "print \"ex: 31781 songs are listened to by one person\"\n",
    "SCU.User_ID['count'].value_counts()"
   ]
  },
  {
   "cell_type": "code",
   "execution_count": 77,
   "metadata": {
    "collapsed": false
   },
   "outputs": [
    {
     "data": {
      "image/png": "[encoded data removed]",
      "text/plain": [
       "<matplotlib.figure.Figure at 0xd52c2a20>"
      ]
     },
     "metadata": {},
     "output_type": "display_data"
    }
   ],
   "source": [
    "UCSCDF = sns.distplot(UCS.Song_ID['count'],\n",
    "                      kde_kws=dict(cumulative=True))\n",
    "plt.xlim(1, 500)\n",
    "plt.xlabel('#Songs Per User')\n",
    "plt.suptitle('Cumulative Percentage on Songs')\n",
    "plt.show()"
   ]
  },
  {
   "cell_type": "code",
   "execution_count": 84,
   "metadata": {
    "collapsed": false,
    "scrolled": true
   },
   "outputs": [
    {
     "data": {
      "image/png": "[encoded data removed]",
      "text/plain": [
       "<matplotlib.figure.Figure at 0xcd10f780>"
      ]
     },
     "metadata": {},
     "output_type": "display_data"
    }
   ],
   "source": [
    "SCUCDF = plt.hist(SCU.User_ID['count'],\n",
    "                      bins = 50)\n",
    "#plt.xlim(0, 5000)\n",
    "\n",
    "plt.yscale('log', nonposy='clip')\n",
    "\n",
    "plt.xlabel('#Users per Song')\n",
    "plt.suptitle('Log number of users per song')\n",
    "plt.show()\n"
   ]
  },
  {
   "cell_type": "code",
   "execution_count": 76,
   "metadata": {
    "collapsed": false
   },
   "outputs": [
    {
     "data": {
      "image/png": "[encoded data removed]",
      "text/plain": [
       "<matplotlib.figure.Figure at 0xd77f19b0>"
      ]
     },
     "metadata": {},
     "output_type": "display_data"
    }
   ],
   "source": [
    "UCSCDF = sns.distplot(UCS.Song_ID['count'],\n",
    "                      kde_kws=dict(cumulative=True))\n",
    "\n",
    "plt.xlim(10, 400)\n",
    "\n",
    "\n",
    "\n",
    "plt.xlabel('#Users per Song')\n",
    "plt.suptitle('Cumulative Percentage on Users')\n",
    "plt.show()\n"
   ]
  }
 ],
 "metadata": {
  "anaconda-cloud": {},
  "kernelspec": {
   "display_name": "Python [conda root]",
   "language": "python",
   "name": "conda-root-py"
  },
  "language_info": {
   "codemirror_mode": {
    "name": "ipython",
    "version": 2
   },
   "file_extension": ".py",
   "mimetype": "text/x-python",
   "name": "python",
   "nbconvert_exporter": "python",
   "pygments_lexer": "ipython2",
   "version": "2.7.12"
  }
 },
 "nbformat": 4,
 "nbformat_minor": 1
}
